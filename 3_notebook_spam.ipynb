{
 "cells": [
  {
   "cell_type": "markdown",
   "id": "b59c3bfd-7a3b-480d-a091-26ab0c5b6c5b",
   "metadata": {},
   "source": [
    "### Import libraries"
   ]
  },
  {
   "cell_type": "code",
   "execution_count": 42,
   "id": "5f44f493-4fcf-4a3f-b8f8-0202fb3bf1a1",
   "metadata": {},
   "outputs": [],
   "source": [
    "import glob\n",
    "import os\n",
    "\n",
    "import numpy as np\n",
    "import pandas as pd"
   ]
  },
  {
   "cell_type": "markdown",
   "id": "12738ea5-2151-44be-8779-4ef45de63aee",
   "metadata": {},
   "source": [
    "### Read data"
   ]
  },
  {
   "cell_type": "code",
   "execution_count": 43,
   "id": "22404c7e-9847-4fd4-8c7f-cdb1d1415b8c",
   "metadata": {},
   "outputs": [],
   "source": [
    "path = \"inputs/\"\n",
    "all_files = glob.glob(os.path.join(path , \"*.csv\"))\n",
    "\n",
    "# Read all videos\n",
    "li = []\n",
    "for filename in all_files:\n",
    "    df_video = pd.read_csv(filename)\n",
    "    df_video[\"VIDEO\"] = filename.split('-')[1].split('.')[0] \n",
    "    li.append(df_video)\n",
    "\n",
    "# Create one unique dataframe\n",
    "df = pd.concat(li, axis=0, ignore_index=True)\n",
    "\n",
    "# Move column \"VIDEO\" in fist position\n",
    "first_column = df.pop('VIDEO')\n",
    "df.insert(0, 'VIDEO', first_column)"
   ]
  },
  {
   "cell_type": "markdown",
   "id": "dd31649c-cb4e-4d3e-97d8-7d1e7bb75c96",
   "metadata": {},
   "source": [
    "### Training"
   ]
  },
  {
   "cell_type": "code",
   "execution_count": 44,
   "id": "03f39d3a-4a86-4a7d-adf9-786f66059a20",
   "metadata": {},
   "outputs": [],
   "source": [
    "# Train/Test split\n",
    "\n",
    "from sklearn.model_selection import train_test_split\n",
    "\n",
    "X_train, X_test, y_train, y_test = train_test_split(\n",
    "    df[\"CONTENT\"],\n",
    "    df[\"CLASS\"],\n",
    "    test_size = 0.2,\n",
    "    random_state = 42\n",
    ")"
   ]
  },
  {
   "cell_type": "code",
   "execution_count": 45,
   "id": "3cc4d194-faee-4c44-b3e0-99e72733aa97",
   "metadata": {},
   "outputs": [
    {
     "data": {
      "text/plain": [
       "Pipeline(steps=[('countvectorizer', CountVectorizer()),\n",
       "                ('randomforestclassifier',\n",
       "                 RandomForestClassifier(random_state=42))])"
      ]
     },
     "execution_count": 45,
     "metadata": {},
     "output_type": "execute_result"
    }
   ],
   "source": [
    "from sklearn.feature_extraction.text import CountVectorizer\n",
    "from sklearn.pipeline import make_pipeline\n",
    "from sklearn.ensemble import RandomForestClassifier\n",
    "\n",
    "pipe = make_pipeline(\n",
    "    CountVectorizer(),\n",
    "    RandomForestClassifier(random_state=42)\n",
    ")\n",
    "\n",
    "pipe.fit(X_train, y_train)"
   ]
  },
  {
   "cell_type": "markdown",
   "id": "c6307a89-ad04-463d-ae6e-b7eaeadf2067",
   "metadata": {},
   "source": [
    "### Evaluation"
   ]
  },
  {
   "cell_type": "code",
   "execution_count": 46,
   "id": "394c8fc7-825a-4fb6-b4c7-9cc170e18cef",
   "metadata": {},
   "outputs": [
    {
     "data": {
      "text/plain": [
       "0.9566326530612245"
      ]
     },
     "execution_count": 46,
     "metadata": {},
     "output_type": "execute_result"
    }
   ],
   "source": [
    "pipe.score(X_test, y_test)"
   ]
  },
  {
   "cell_type": "code",
   "execution_count": 47,
   "id": "4623164b-9ed6-4b6b-8424-f1640a029984",
   "metadata": {},
   "outputs": [
    {
     "name": "stdout",
     "output_type": "stream",
     "text": [
      "[1]\n",
      "[0]\n"
     ]
    }
   ],
   "source": [
    "# Inference\n",
    "\n",
    "print(pipe.predict([\"hey subscribe to my youtube channel please ! have fun\"]))\n",
    "print(pipe.predict([\"Wow he is the best!\"]))"
   ]
  },
  {
   "cell_type": "markdown",
   "id": "c79d564c-8e2f-4a16-bd72-5cdc6da6db32",
   "metadata": {},
   "source": [
    "#### Cross validation"
   ]
  },
  {
   "cell_type": "code",
   "execution_count": 48,
   "id": "57dc4cfb-7da1-4c9e-a569-ed80b7929357",
   "metadata": {},
   "outputs": [
    {
     "name": "stdout",
     "output_type": "stream",
     "text": [
      "[0.94827586 0.96353167 0.9462572 ]\n",
      "0.9526882432104484\n",
      "0.9482758620689655\n",
      "0.007711622297193711\n"
     ]
    }
   ],
   "source": [
    "from sklearn.model_selection import cross_val_score\n",
    "\n",
    "scores = cross_val_score(pipe, X_train, y_train, cv=3)\n",
    "print(scores)\n",
    "print(np.mean(scores))\n",
    "print(np.median(scores))\n",
    "print(np.std(scores))"
   ]
  },
  {
   "cell_type": "markdown",
   "id": "72fedcc1-3712-4f15-8cc9-9f8622e76240",
   "metadata": {},
   "source": [
    "### Tuning hyperparameters"
   ]
  },
  {
   "cell_type": "code",
   "execution_count": 49,
   "id": "166347fe-90f2-4d19-93c7-1e4f355f2ca4",
   "metadata": {},
   "outputs": [],
   "source": [
    "parameters = {\n",
    "    'countvectorizer__max_features' : (None, 1000, 2000),\n",
    "    'countvectorizer__ngram_range' : ((1, 1), (1, 2)),\n",
    "    'countvectorizer__stop_words': (None, 'english'),\n",
    "    'countvectorizer__strip_accents': (None, 'ascii', 'unicode'),\n",
    "    'randomforestclassifier__n_estimators' : (50, 100, 200)\n",
    "}\n"
   ]
  },
  {
   "cell_type": "code",
   "execution_count": 50,
   "id": "6c15c94a-c529-4109-b374-25c543a956c2",
   "metadata": {},
   "outputs": [],
   "source": [
    "from sklearn.model_selection import GridSearchCV\n",
    "\n",
    "search_model = GridSearchCV(pipe, parameters, cv=3, n_jobs=-1) #n_jobs=-1 pour utiliser toute la capacité de ma machine"
   ]
  },
  {
   "cell_type": "code",
   "execution_count": 51,
   "id": "ad1111f4-d081-4232-96d4-e31cd47bb920",
   "metadata": {},
   "outputs": [
    {
     "name": "stdout",
     "output_type": "stream",
     "text": [
      "0.9584402722929429\n",
      "Pipeline(steps=[('countvectorizer',\n",
      "                 CountVectorizer(max_features=1000, ngram_range=(1, 2),\n",
      "                                 stop_words='english',\n",
      "                                 strip_accents='unicode')),\n",
      "                ('randomforestclassifier',\n",
      "                 RandomForestClassifier(n_estimators=50, random_state=42))])\n"
     ]
    }
   ],
   "source": [
    "search_model.fit(X_train, y_train)\n",
    "\n",
    "print(search_model.best_score_)\n",
    "print(search_model.best_estimator_)"
   ]
  },
  {
   "cell_type": "markdown",
   "id": "ddd9a2cf-99e3-4500-b742-f4c4997a4261",
   "metadata": {},
   "source": [
    "### Enregistrement du modèle"
   ]
  },
  {
   "cell_type": "code",
   "execution_count": 54,
   "id": "33fc1048-4e01-4763-b253-fb4408c516b1",
   "metadata": {},
   "outputs": [
    {
     "data": {
      "text/plain": [
       "['models/spam_detector_model.pkl']"
      ]
     },
     "execution_count": 54,
     "metadata": {},
     "output_type": "execute_result"
    }
   ],
   "source": [
    "import joblib\n",
    "\n",
    "joblib.dump(search_model.best_estimator_, \"models/spam_detector_model.pkl\")"
   ]
  },
  {
   "cell_type": "markdown",
   "id": "1a97a81c-292a-4c47-b889-2954426ed638",
   "metadata": {},
   "source": [
    "### Chargement du modèle"
   ]
  },
  {
   "cell_type": "code",
   "execution_count": 55,
   "id": "c21aa541-e752-417c-ab1c-ec449bddf1a5",
   "metadata": {},
   "outputs": [],
   "source": [
    "loaded_model = joblib.load(\"models/spam_detector_model.pkl\")"
   ]
  },
  {
   "cell_type": "code",
   "execution_count": 58,
   "id": "fa0acbdb-12f5-4f16-9157-00227757d951",
   "metadata": {},
   "outputs": [
    {
     "name": "stdout",
     "output_type": "stream",
     "text": [
      "[1]\n",
      "[0]\n"
     ]
    }
   ],
   "source": [
    "# New inference\n",
    "print(loaded_model.predict([\"hey guys, come to see my video on my youtube channel please\"]))\n",
    "print(loaded_model.predict([\"Thank you for this video\"]))"
   ]
  },
  {
   "cell_type": "code",
   "execution_count": null,
   "id": "cc572f76-9517-479b-aea5-68dccf3b6b10",
   "metadata": {},
   "outputs": [],
   "source": []
  }
 ],
 "metadata": {
  "kernelspec": {
   "display_name": "Python 3 (ipykernel)",
   "language": "python",
   "name": "python3"
  },
  "language_info": {
   "codemirror_mode": {
    "name": "ipython",
    "version": 3
   },
   "file_extension": ".py",
   "mimetype": "text/x-python",
   "name": "python",
   "nbconvert_exporter": "python",
   "pygments_lexer": "ipython3",
   "version": "3.9.13"
  }
 },
 "nbformat": 4,
 "nbformat_minor": 5
}
